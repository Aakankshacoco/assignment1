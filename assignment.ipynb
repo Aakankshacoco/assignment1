{
 "cells": [
  {
   "cell_type": "markdown",
   "id": "d4d4b901-5884-45f6-81c1-8f0927c9494b",
   "metadata": {
    "tags": []
   },
   "source": [
    "Q-1"
   ]
  },
  {
   "cell_type": "code",
   "execution_count": 1,
   "id": "17c0d428-823d-4d3a-b22d-ec9bafd55f14",
   "metadata": {},
   "outputs": [],
   "source": [
    "mystring=\"datascience\""
   ]
  },
  {
   "cell_type": "code",
   "execution_count": 2,
   "id": "7987b31e-63e1-4722-912a-eec722e73c87",
   "metadata": {},
   "outputs": [
    {
     "data": {
      "text/plain": [
       "str"
      ]
     },
     "execution_count": 2,
     "metadata": {},
     "output_type": "execute_result"
    }
   ],
   "source": [
    "type(mystring)"
   ]
  },
  {
   "cell_type": "code",
   "execution_count": 3,
   "id": "c910c480-d43f-4e4b-bbba-4858aa22363c",
   "metadata": {},
   "outputs": [],
   "source": [
    "mylist=[1,2,2.98,'aakanksha',True]"
   ]
  },
  {
   "cell_type": "code",
   "execution_count": 4,
   "id": "a8091a25-6def-448b-80d7-2f8144e46b16",
   "metadata": {},
   "outputs": [
    {
     "data": {
      "text/plain": [
       "list"
      ]
     },
     "execution_count": 4,
     "metadata": {},
     "output_type": "execute_result"
    }
   ],
   "source": [
    "type(mylist)"
   ]
  },
  {
   "cell_type": "code",
   "execution_count": 5,
   "id": "c0e2af17-8d28-49ba-852a-c393967ebad9",
   "metadata": {},
   "outputs": [],
   "source": [
    "a=7.98"
   ]
  },
  {
   "cell_type": "code",
   "execution_count": 6,
   "id": "22466310-a7e1-4557-9ed8-6689e27bcff5",
   "metadata": {},
   "outputs": [
    {
     "data": {
      "text/plain": [
       "float"
      ]
     },
     "execution_count": 6,
     "metadata": {},
     "output_type": "execute_result"
    }
   ],
   "source": [
    "type(a)"
   ]
  },
  {
   "cell_type": "code",
   "execution_count": 14,
   "id": "9803e779-90db-4d0d-a75d-cd8c03db07d4",
   "metadata": {},
   "outputs": [],
   "source": [
    "b=(\"banana\", \"apple\", \"cherry\")"
   ]
  },
  {
   "cell_type": "code",
   "execution_count": 15,
   "id": "cfb91a54-b8a6-46d7-9709-94ce54f7b045",
   "metadata": {},
   "outputs": [
    {
     "data": {
      "text/plain": [
       "tuple"
      ]
     },
     "execution_count": 15,
     "metadata": {},
     "output_type": "execute_result"
    }
   ],
   "source": [
    "type(b)"
   ]
  },
  {
   "cell_type": "markdown",
   "id": "b4617e7d-76da-4b5f-868e-0d2cb131166e",
   "metadata": {},
   "source": [
    "Q-2"
   ]
  },
  {
   "cell_type": "markdown",
   "id": "cd75a5a5-4492-4ae6-8024-6fd9d682091d",
   "metadata": {},
   "source": [
    "1- str\n",
    "2- str\n",
    "3- list\n",
    "4- int"
   ]
  },
  {
   "cell_type": "markdown",
   "id": "f1527cb6-2c5a-4e3e-895b-94630b567f67",
   "metadata": {},
   "source": [
    "Q-3"
   ]
  },
  {
   "cell_type": "markdown",
   "id": "9e187f73-7dd3-47be-9f6e-9ee8b6f5edd3",
   "metadata": {},
   "source": [
    "/ -  This is division operator. It returns quotient."
   ]
  },
  {
   "cell_type": "code",
   "execution_count": 9,
   "id": "1b8d5c78-edec-495b-952f-84cb647e5716",
   "metadata": {},
   "outputs": [
    {
     "name": "stdout",
     "output_type": "stream",
     "text": [
      "5.0\n"
     ]
    }
   ],
   "source": [
    "x=25\n",
    "y=5\n",
    "print(x/y)"
   ]
  },
  {
   "cell_type": "markdown",
   "id": "e33498ae-1dfd-4a87-9b24-ce3d660e94d1",
   "metadata": {},
   "source": [
    "% - This is a modulus. when a is divided by b, and the remainder of the division returned."
   ]
  },
  {
   "cell_type": "code",
   "execution_count": 6,
   "id": "de3339fe-7bef-4df3-a608-d1e5683836c7",
   "metadata": {},
   "outputs": [
    {
     "name": "stdout",
     "output_type": "stream",
     "text": [
      "1\n"
     ]
    }
   ],
   "source": [
    "a=5\n",
    "b=2\n",
    "print(a%b)"
   ]
  },
  {
   "cell_type": "markdown",
   "id": "37c459cb-d1b0-40fe-b145-946c6ef57282",
   "metadata": {},
   "source": [
    "// - This is a floor division operator. After division X by Y , the resultant is always a floating number and will be rounded to the nearest whole number, making it equivalent to the function. "
   ]
  },
  {
   "cell_type": "code",
   "execution_count": 5,
   "id": "347a1032-3d22-4919-ab0f-97c929d3bd5b",
   "metadata": {},
   "outputs": [
    {
     "name": "stdout",
     "output_type": "stream",
     "text": [
      "7\n"
     ]
    }
   ],
   "source": [
    "x=15\n",
    "y=2\n",
    "print(x//y)"
   ]
  },
  {
   "cell_type": "markdown",
   "id": "d9eeac38-8007-44c4-a701-6b5677f8f9af",
   "metadata": {},
   "source": [
    "** - This is exponentiation. It returns first raised to power second "
   ]
  },
  {
   "cell_type": "code",
   "execution_count": 7,
   "id": "b4d47fe6-2db5-4af4-923d-c2b2f1c2ab63",
   "metadata": {},
   "outputs": [
    {
     "name": "stdout",
     "output_type": "stream",
     "text": [
      "32\n"
     ]
    }
   ],
   "source": [
    "x=2\n",
    "y=5\n",
    "print(x**y)"
   ]
  },
  {
   "cell_type": "markdown",
   "id": "38c17540-be9e-4d3c-a04e-7b60cdad3a85",
   "metadata": {},
   "source": [
    "Q-4"
   ]
  },
  {
   "cell_type": "code",
   "execution_count": 21,
   "id": "58d2c3f0-d2f8-4c6c-b2bb-e60779b4c09b",
   "metadata": {},
   "outputs": [],
   "source": [
    "s=[2, 5, \"shalu\", 12.34, '12.34', \"data\", True, \"science\", False, 7]"
   ]
  },
  {
   "cell_type": "code",
   "execution_count": 22,
   "id": "20c3d151-c5e2-4056-80e0-ec6761c6dad5",
   "metadata": {},
   "outputs": [
    {
     "data": {
      "text/plain": [
       "list"
      ]
     },
     "execution_count": 22,
     "metadata": {},
     "output_type": "execute_result"
    }
   ],
   "source": [
    "type(s)"
   ]
  },
  {
   "cell_type": "code",
   "execution_count": 5,
   "id": "b3063b79-c9c2-4bfa-b592-3c8a35f7c072",
   "metadata": {},
   "outputs": [
    {
     "name": "stdout",
     "output_type": "stream",
     "text": [
      "<class 'int'>\n",
      "2\n",
      "<class 'int'>\n",
      "5\n",
      "<class 'str'>\n",
      "shalu\n",
      "<class 'float'>\n",
      "12.34\n",
      "<class 'str'>\n",
      "12.34\n",
      "<class 'str'>\n",
      "data\n",
      "<class 'bool'>\n",
      "True\n",
      "<class 'str'>\n",
      "science\n",
      "<class 'bool'>\n",
      "False\n",
      "<class 'int'>\n",
      "7\n"
     ]
    }
   ],
   "source": [
    "for i in s:\n",
    "    print(type(i))\n",
    "    print(i)"
   ]
  },
  {
   "cell_type": "markdown",
   "id": "c57f8ea3-dc82-487a-bd7f-b2ce945b7830",
   "metadata": {},
   "source": [
    "Q-5"
   ]
  },
  {
   "cell_type": "code",
   "execution_count": 5,
   "id": "81fb9a90-83d2-4153-be2a-23eaa69e56b7",
   "metadata": {},
   "outputs": [
    {
     "name": "stdout",
     "output_type": "stream",
     "text": [
      "A is purely divisible by number B\n",
      "A is purely divisible by number B 4 times\n"
     ]
    }
   ],
   "source": [
    "A=16\n",
    "B=2\n",
    "if A%B==0:\n",
    "    print(\"A is purely divisible by number B\")\n",
    "    count = 0\n",
    "    while A%B==0:\n",
    "        A = A/B\n",
    "        count = count+1\n",
    "    print(\"A is purely divisible by number B\" ,count, \"times\")\n",
    "else:\n",
    "    print(\"A is not purely divisible by number B\")\n",
    "        "
   ]
  },
  {
   "cell_type": "markdown",
   "id": "eaa0b222-c9c6-45a6-9502-bd4ce77cb912",
   "metadata": {},
   "source": [
    "Q-6"
   ]
  },
  {
   "cell_type": "code",
   "execution_count": 5,
   "id": "2aaaa6b7-7360-499f-9641-674ccbdd8868",
   "metadata": {},
   "outputs": [
    {
     "name": "stdout",
     "output_type": "stream",
     "text": [
      "0 is divisible by 3\n",
      "1 is not divisible by 3\n",
      "2 is not divisible by 3\n",
      "3 is divisible by 3\n",
      "4 is not divisible by 3\n",
      "5 is not divisible by 3\n",
      "6 is divisible by 3\n",
      "7 is not divisible by 3\n",
      "8 is not divisible by 3\n",
      "9 is divisible by 3\n",
      "10 is not divisible by 3\n",
      "11 is not divisible by 3\n",
      "12 is divisible by 3\n",
      "13 is not divisible by 3\n",
      "14 is not divisible by 3\n",
      "15 is divisible by 3\n",
      "16 is not divisible by 3\n",
      "17 is not divisible by 3\n",
      "18 is divisible by 3\n",
      "19 is not divisible by 3\n",
      "20 is not divisible by 3\n",
      "21 is divisible by 3\n",
      "22 is not divisible by 3\n",
      "23 is not divisible by 3\n",
      "24 is divisible by 3\n"
     ]
    }
   ],
   "source": [
    "a= list(range(25))\n",
    "for i in a:\n",
    "    if(i%3==0):\n",
    "        print(i, \"is divisible by 3\")\n",
    "    else:\n",
    "        print(i, \"is not divisible by 3\")"
   ]
  },
  {
   "cell_type": "markdown",
   "id": "2547097f-f1a5-4813-8fed-d0e4a0350998",
   "metadata": {},
   "source": [
    "Q-7"
   ]
  },
  {
   "cell_type": "markdown",
   "id": "1c496652-6c04-4498-b1ee-8bef874f420a",
   "metadata": {},
   "source": [
    "1-mutable datatype can be modified or updated after intial assignment. example- list."
   ]
  },
  {
   "cell_type": "markdown",
   "id": "151b5a8e-78e2-4377-888f-9144aa8c7db1",
   "metadata": {},
   "source": [
    "2-immutable datatypes cannot be modified or updated after assignment. example- string. "
   ]
  }
 ],
 "metadata": {
  "kernelspec": {
   "display_name": "Python 3 (ipykernel)",
   "language": "python",
   "name": "python3"
  },
  "language_info": {
   "codemirror_mode": {
    "name": "ipython",
    "version": 3
   },
   "file_extension": ".py",
   "mimetype": "text/x-python",
   "name": "python",
   "nbconvert_exporter": "python",
   "pygments_lexer": "ipython3",
   "version": "3.10.8"
  }
 },
 "nbformat": 4,
 "nbformat_minor": 5
}
