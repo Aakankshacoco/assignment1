{
 "cells": [
  {
   "cell_type": "markdown",
   "id": "d363be75-6e8f-430a-bca6-f526d1e0d7ca",
   "metadata": {},
   "source": [
    "q-1 To write comment code in python,simply put single or double hash mark before desired comment and for multiline comment use quotation marks three times."
   ]
  },
  {
   "cell_type": "code",
   "execution_count": 3,
   "id": "f9cb1d01-7cc2-4b82-b862-524fd518abd1",
   "metadata": {},
   "outputs": [
    {
     "name": "stdout",
     "output_type": "stream",
     "text": [
      "notebook\n"
     ]
    }
   ],
   "source": [
    "#this is my assignment\n",
    "print(\"notebook\")"
   ]
  },
  {
   "cell_type": "markdown",
   "id": "36e4bd3f-48cb-4174-a9a9-4d9d81515cdb",
   "metadata": {},
   "source": [
    "In the above code, i have used a comment to explain what code does. when the code is being executed the interperter will ignore the comment and run the print function."
   ]
  },
  {
   "cell_type": "markdown",
   "id": "a4d458db-5a68-474a-8589-f935f3e4cc9f",
   "metadata": {},
   "source": [
    "There are two type of comments: \n"
   ]
  },
  {
   "cell_type": "markdown",
   "id": "0b986a8d-a8be-4cfa-a4a1-cf31930188f8",
   "metadata": {},
   "source": [
    "a. single-lined comment:"
   ]
  },
  {
   "cell_type": "code",
   "execution_count": 6,
   "id": "c23ad639-ebef-4223-ab00-13edfe933876",
   "metadata": {},
   "outputs": [],
   "source": [
    " #my name is aakanksha.\n"
   ]
  },
  {
   "cell_type": "markdown",
   "id": "02ec2de3-5504-4db7-8098-818fb2835d9a",
   "metadata": {},
   "source": [
    "b. multi-lined comment"
   ]
  },
  {
   "cell_type": "code",
   "execution_count": 9,
   "id": "6c6cf7ce-c678-445d-80d5-076721b1306a",
   "metadata": {},
   "outputs": [],
   "source": [
    "# this is an example\n",
    "# of \n",
    "# mult-lined comments"
   ]
  },
  {
   "cell_type": "markdown",
   "id": "94314746-63c1-4a05-8422-6ac0666b019a",
   "metadata": {},
   "source": [
    "we can also we triple quotation marks for multi-lined comments"
   ]
  },
  {
   "cell_type": "code",
   "execution_count": 14,
   "id": "03fded80-e78e-4cc5-a3f1-186a7452f7eb",
   "metadata": {},
   "outputs": [
    {
     "data": {
      "text/plain": [
       "' this is also an example \\nof\\nmulti-lined comment'"
      ]
     },
     "execution_count": 14,
     "metadata": {},
     "output_type": "execute_result"
    }
   ],
   "source": [
    "\"\"\" this is also an example \n",
    "of\n",
    "multi-lined comment\"\"\""
   ]
  },
  {
   "cell_type": "markdown",
   "id": "aed7e9f5-f8b7-4975-8041-d2e6c977361a",
   "metadata": {},
   "source": [
    "q-2 Python variable is a container that store  values. A variable is created the moment we first assign a value to it. A python variable is aname given to a memory location. It is the basic unit of storage in a programe"
   ]
  },
  {
   "cell_type": "markdown",
   "id": "fc3043c0-60aa-4758-9fe4-ceb0e38afe00",
   "metadata": {},
   "source": [
    "rules for python variables:\n",
    "1- A python variable name mst start with a letter or underscore character.\n",
    "2- A python variable name cannot start with a number.\n",
    "3- A python variable name can only contain alpha-numerical character and underscores.\n",
    "4- The keywords inpython cannot be used to name the variable in python\n",
    "5- Variable in python are case sensitive."
   ]
  },
  {
   "cell_type": "code",
   "execution_count": null,
   "id": "5b0dae9a-c83b-4b66-8477-d0b6d7362b2b",
   "metadata": {},
   "outputs": [],
   "source": [
    "a = 10"
   ]
  },
  {
   "cell_type": "code",
   "execution_count": null,
   "id": "6762eaac-ceb2-46ca-9949-108eb2e6573e",
   "metadata": {},
   "outputs": [],
   "source": [
    "b = 20"
   ]
  },
  {
   "cell_type": "code",
   "execution_count": null,
   "id": "4bc0f0ce-d4fa-4778-b6af-485702ddf724",
   "metadata": {},
   "outputs": [],
   "source": [
    "a2= 'my world'"
   ]
  },
  {
   "cell_type": "code",
   "execution_count": null,
   "id": "d180405d-2551-44e9-9c37-9b6a59a5f997",
   "metadata": {},
   "outputs": [],
   "source": [
    "sudh= True"
   ]
  },
  {
   "cell_type": "markdown",
   "id": "65d21cfd-cbb9-4390-9eff-d232c2adcadf",
   "metadata": {},
   "source": [
    "Q N0- 3 python defines type conversion function like int(), str(), float(), to directly convert one data type into another."
   ]
  },
  {
   "cell_type": "code",
   "execution_count": 1,
   "id": "e53762c8-a2a5-4875-a825-ba8e9d7b7996",
   "metadata": {},
   "outputs": [],
   "source": [
    "a = int(\"20\") #convert the string \"20\" to the integer 20\n",
    "b = float(\"45.89\") #convert the string \"45.89\" to the float 45.89\n",
    "c = bool(1) #convert the integer 1 to the boolean True\n",
    "d = list((1, 2, 3)) # convert the tuple to the list"
   ]
  },
  {
   "cell_type": "markdown",
   "id": "8f5f9280-d5d7-4149-a464-d383f9ecfd53",
   "metadata": {},
   "source": [
    "qno 4; To write and execute a Python script from the commond line-\n",
    "\n",
    "Open a text editor and create a new file. Save it with .py extension,which is the convention for python for python scripts. For example, script.py.\n",
    "\n"
   ]
  },
  {
   "cell_type": "code",
   "execution_count": 2,
   "id": "611e6f5e-c9c3-4608-9caf-4b8b98c45bf3",
   "metadata": {},
   "outputs": [
    {
     "name": "stdout",
     "output_type": "stream",
     "text": [
      "Hello World!\n"
     ]
    }
   ],
   "source": [
    "print(\"Hello World!\")"
   ]
  },
  {
   "cell_type": "markdown",
   "id": "502e2248-6d5f-4fee-a2a9-300555bf4be9",
   "metadata": {},
   "source": [
    "now save the file and open terminal or commond in that folder, now write \"python script.py\". It will excute the file and will show the output."
   ]
  },
  {
   "cell_type": "markdown",
   "id": "e530fb39-1fbf-48ca-8082-319d973ec3c8",
   "metadata": {},
   "source": [
    "qno-5"
   ]
  },
  {
   "cell_type": "code",
   "execution_count": 4,
   "id": "cc796b05-3516-4b87-b6b2-50c13e1c7d89",
   "metadata": {},
   "outputs": [
    {
     "name": "stdout",
     "output_type": "stream",
     "text": [
      "[2, 3]\n"
     ]
    }
   ],
   "source": [
    "my_list= [1, 2, 3, 4, 5]\n",
    "print(my_list[1:3])"
   ]
  },
  {
   "cell_type": "markdown",
   "id": "862b6c7a-b71a-4856-a674-5872db593a65",
   "metadata": {},
   "source": [
    "qno-6; In mathematics, a complex is a number that can be expressed in the form a+bi, where a and b are real number, and 'i' is the imaginary unit defined as the square root of-1. the real part 'a' represent the real number component, and imaginary part 'b' represents the imaginary number component."
   ]
  },
  {
   "cell_type": "code",
   "execution_count": 5,
   "id": "22b67240-d679-430e-8898-c1295d53e799",
   "metadata": {},
   "outputs": [],
   "source": [
    "z = 4+8j # complex number in python, where 4 is real part and 8j is imaginary part."
   ]
  },
  {
   "cell_type": "markdown",
   "id": "c0a0ce2c-1c19-4e6e-8592-8730d16880ce",
   "metadata": {},
   "source": [
    "qno-7;"
   ]
  },
  {
   "cell_type": "code",
   "execution_count": 6,
   "id": "7e563f90-e065-4104-88c3-769999cef7e7",
   "metadata": {},
   "outputs": [],
   "source": [
    "age=24"
   ]
  },
  {
   "cell_type": "markdown",
   "id": "7dc4fc87-326d-477a-a81c-8414d9dc3545",
   "metadata": {},
   "source": [
    "qno-8"
   ]
  },
  {
   "cell_type": "code",
   "execution_count": 8,
   "id": "12612277-5a6a-40d4-9213-053c0c6eac9a",
   "metadata": {},
   "outputs": [
    {
     "name": "stdout",
     "output_type": "stream",
     "text": [
      "<class 'float'>\n"
     ]
    }
   ],
   "source": [
    "price = 9.99\n",
    "print(type(price))"
   ]
  },
  {
   "cell_type": "markdown",
   "id": "9fd03d1d-c0ab-402b-a3c0-75c02620efd7",
   "metadata": {},
   "source": [
    "qno-9"
   ]
  },
  {
   "cell_type": "code",
   "execution_count": 9,
   "id": "d2773bc8-74a4-40cf-bf15-88d0b1453b03",
   "metadata": {},
   "outputs": [
    {
     "name": "stdout",
     "output_type": "stream",
     "text": [
      "Aakanksha\n"
     ]
    }
   ],
   "source": [
    "name = \"Aakanksha\"\n",
    "print(name)"
   ]
  },
  {
   "cell_type": "markdown",
   "id": "a153bfe4-e74d-41eb-ac9a-bc832d2b217c",
   "metadata": {},
   "source": [
    "qno-10"
   ]
  },
  {
   "cell_type": "code",
   "execution_count": 14,
   "id": "205589df-15fe-4ed0-ac22-b14c2c1b0199",
   "metadata": {},
   "outputs": [
    {
     "name": "stdout",
     "output_type": "stream",
     "text": [
      "World\n"
     ]
    }
   ],
   "source": [
    "string = \"Hello,World!\"\n",
    "print(string[6:11])"
   ]
  },
  {
   "cell_type": "markdown",
   "id": "efe5bea9-9ca9-4008-b01a-7c30a65e6bf3",
   "metadata": {},
   "source": [
    "qno- 11"
   ]
  },
  {
   "cell_type": "code",
   "execution_count": 17,
   "id": "71a35fea-3dba-4d9b-8b2f-3de5e3b5dd25",
   "metadata": {},
   "outputs": [
    {
     "name": "stdout",
     "output_type": "stream",
     "text": [
      "i am a student!\n"
     ]
    }
   ],
   "source": [
    "is_student = True\n",
    "if(is_student):\n",
    "    print(\"i am a student!\")\n",
    "else: \n",
    "    print(\"i am not a student\")"
   ]
  },
  {
   "cell_type": "code",
   "execution_count": null,
   "id": "21fe6e06-28b6-449c-b0c4-c21d318e3cb1",
   "metadata": {},
   "outputs": [],
   "source": []
  }
 ],
 "metadata": {
  "kernelspec": {
   "display_name": "Python 3 (ipykernel)",
   "language": "python",
   "name": "python3"
  },
  "language_info": {
   "codemirror_mode": {
    "name": "ipython",
    "version": 3
   },
   "file_extension": ".py",
   "mimetype": "text/x-python",
   "name": "python",
   "nbconvert_exporter": "python",
   "pygments_lexer": "ipython3",
   "version": "3.10.8"
  }
 },
 "nbformat": 4,
 "nbformat_minor": 5
}
